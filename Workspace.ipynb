{
 "cells": [
  {
   "cell_type": "markdown",
   "metadata": {},
   "source": [
    "# Chemicals Hazards WebScrapping"
   ]
  },
  {
   "cell_type": "markdown",
   "metadata": {},
   "source": [
    "## 01. Importing Libraries"
   ]
  },
  {
   "cell_type": "code",
   "execution_count": 1,
   "metadata": {},
   "outputs": [
    {
     "name": "stderr",
     "output_type": "stream",
     "text": [
      "/tmp/ipykernel_8435/4080736814.py:1: DeprecationWarning: \n",
      "Pyarrow will become a required dependency of pandas in the next major release of pandas (pandas 3.0),\n",
      "(to allow more performant data types, such as the Arrow string type, and better interoperability with other libraries)\n",
      "but was too old on your system - pyarrow 10.0.1 is the current minimum supported version as of this release.\n",
      "If this would cause problems for you,\n",
      "please provide us feedback at https://github.com/pandas-dev/pandas/issues/54466\n",
      "        \n",
      "  import pandas as pd\n"
     ]
    }
   ],
   "source": [
    "import pandas as pd"
   ]
  },
  {
   "cell_type": "markdown",
   "metadata": {},
   "source": [
    "## 02. Data Load"
   ]
  },
  {
   "cell_type": "code",
   "execution_count": 9,
   "metadata": {},
   "outputs": [],
   "source": [
    "cas = pd.read_excel(\"reg-substances-export.xlsx\")"
   ]
  },
  {
   "cell_type": "code",
   "execution_count": 11,
   "metadata": {},
   "outputs": [
    {
     "data": {
      "text/html": [
       "<div>\n",
       "<style scoped>\n",
       "    .dataframe tbody tr th:only-of-type {\n",
       "        vertical-align: middle;\n",
       "    }\n",
       "\n",
       "    .dataframe tbody tr th {\n",
       "        vertical-align: top;\n",
       "    }\n",
       "\n",
       "    .dataframe thead th {\n",
       "        text-align: right;\n",
       "    }\n",
       "</style>\n",
       "<table border=\"1\" class=\"dataframe\">\n",
       "  <thead>\n",
       "    <tr style=\"text-align: right;\">\n",
       "      <th></th>\n",
       "      <th>Name</th>\n",
       "      <th>EC / List Number</th>\n",
       "      <th>Cas Number</th>\n",
       "      <th>ID</th>\n",
       "      <th>Registration Status</th>\n",
       "      <th>Registration Type</th>\n",
       "      <th>Submission Type</th>\n",
       "      <th>Total tonnage Band</th>\n",
       "      <th>Tonnage Band Min</th>\n",
       "      <th>Tonnage Band Max</th>\n",
       "      <th>Last Updated</th>\n",
       "      <th>Factsheet URL</th>\n",
       "      <th>Substance Information Page</th>\n",
       "    </tr>\n",
       "  </thead>\n",
       "  <tbody>\n",
       "    <tr>\n",
       "      <th>1</th>\n",
       "      <td>''amyl nitrite'', mixed isomers</td>\n",
       "      <td>203-770-8</td>\n",
       "      <td>110-46-3</td>\n",
       "      <td>100.003.429</td>\n",
       "      <td>Active</td>\n",
       "      <td>FULL</td>\n",
       "      <td>JOINT_SUBMISSION</td>\n",
       "      <td>≥ 10 to &lt; 100 tonnes</td>\n",
       "      <td>10.0</td>\n",
       "      <td>100.0</td>\n",
       "      <td>26-07-2022</td>\n",
       "      <td>https://echa.europa.eu/registration-dossier/-/...</td>\n",
       "      <td>https://echa.europa.eu/substance-information/-...</td>\n",
       "    </tr>\n",
       "    <tr>\n",
       "      <th>2</th>\n",
       "      <td>''amyl nitrite'', mixed isomers</td>\n",
       "      <td>203-770-8</td>\n",
       "      <td>110-46-3</td>\n",
       "      <td>100.003.429</td>\n",
       "      <td>Active</td>\n",
       "      <td>INTERMEDIATE</td>\n",
       "      <td>JOINT_SUBMISSION</td>\n",
       "      <td>Intermediate use only</td>\n",
       "      <td>NaN</td>\n",
       "      <td>NaN</td>\n",
       "      <td>10-12-2019</td>\n",
       "      <td>https://echa.europa.eu/registration-dossier/-/...</td>\n",
       "      <td>https://echa.europa.eu/substance-information/-...</td>\n",
       "    </tr>\n",
       "    <tr>\n",
       "      <th>4</th>\n",
       "      <td>(((2,2-dimethylbut-3-yn-1-yl)oxy)methyl)benzene</td>\n",
       "      <td>811-585-4</td>\n",
       "      <td>1092536-54-3</td>\n",
       "      <td>100.242.210</td>\n",
       "      <td>Active</td>\n",
       "      <td>INTERMEDIATE</td>\n",
       "      <td>JOINT_SUBMISSION</td>\n",
       "      <td>Intermediate use only</td>\n",
       "      <td>NaN</td>\n",
       "      <td>NaN</td>\n",
       "      <td>12-05-2017</td>\n",
       "      <td>https://echa.europa.eu/registration-dossier/-/...</td>\n",
       "      <td>https://echa.europa.eu/substance-information/-...</td>\n",
       "    </tr>\n",
       "    <tr>\n",
       "      <th>6</th>\n",
       "      <td>((2R,3R,4R,5R)-3-(benzoyloxy)-5-(2,4-dioxo-3,4...</td>\n",
       "      <td>807-766-2</td>\n",
       "      <td>863329-65-1</td>\n",
       "      <td>100.235.582</td>\n",
       "      <td>Cease Manufacture</td>\n",
       "      <td>INTERMEDIATE</td>\n",
       "      <td>INDIVIDUAL_SUBMISSION</td>\n",
       "      <td>Cease manufacture</td>\n",
       "      <td>NaN</td>\n",
       "      <td>NaN</td>\n",
       "      <td>01-02-2016</td>\n",
       "      <td>https://echa.europa.eu/registration-dossier/-/...</td>\n",
       "      <td>https://echa.europa.eu/substance-information/-...</td>\n",
       "    </tr>\n",
       "    <tr>\n",
       "      <th>7</th>\n",
       "      <td>((2R,3R,4R,5R)-3-(benzoyloxy)-5-(2,4-dioxo-3,4...</td>\n",
       "      <td>807-766-2</td>\n",
       "      <td>863329-65-1</td>\n",
       "      <td>100.235.582</td>\n",
       "      <td>Active</td>\n",
       "      <td>INTERMEDIATE</td>\n",
       "      <td>JOINT_SUBMISSION</td>\n",
       "      <td>Intermediate use only</td>\n",
       "      <td>NaN</td>\n",
       "      <td>NaN</td>\n",
       "      <td>07-03-2017</td>\n",
       "      <td>https://echa.europa.eu/registration-dossier/-/...</td>\n",
       "      <td>https://echa.europa.eu/substance-information/-...</td>\n",
       "    </tr>\n",
       "  </tbody>\n",
       "</table>\n",
       "</div>"
      ],
      "text/plain": [
       "                                                Name EC / List Number  \\\n",
       "1                    ''amyl nitrite'', mixed isomers        203-770-8   \n",
       "2                    ''amyl nitrite'', mixed isomers        203-770-8   \n",
       "4    (((2,2-dimethylbut-3-yn-1-yl)oxy)methyl)benzene        811-585-4   \n",
       "6  ((2R,3R,4R,5R)-3-(benzoyloxy)-5-(2,4-dioxo-3,4...        807-766-2   \n",
       "7  ((2R,3R,4R,5R)-3-(benzoyloxy)-5-(2,4-dioxo-3,4...        807-766-2   \n",
       "\n",
       "     Cas Number           ID Registration Status Registration Type  \\\n",
       "1      110-46-3  100.003.429              Active              FULL   \n",
       "2      110-46-3  100.003.429              Active      INTERMEDIATE   \n",
       "4  1092536-54-3  100.242.210              Active      INTERMEDIATE   \n",
       "6   863329-65-1  100.235.582   Cease Manufacture      INTERMEDIATE   \n",
       "7   863329-65-1  100.235.582              Active      INTERMEDIATE   \n",
       "\n",
       "         Submission Type     Total tonnage Band  Tonnage Band Min  \\\n",
       "1       JOINT_SUBMISSION   ≥ 10 to < 100 tonnes              10.0   \n",
       "2       JOINT_SUBMISSION  Intermediate use only               NaN   \n",
       "4       JOINT_SUBMISSION  Intermediate use only               NaN   \n",
       "6  INDIVIDUAL_SUBMISSION      Cease manufacture               NaN   \n",
       "7       JOINT_SUBMISSION  Intermediate use only               NaN   \n",
       "\n",
       "   Tonnage Band Max  Last Updated  \\\n",
       "1              100.0   26-07-2022   \n",
       "2                NaN   10-12-2019   \n",
       "4                NaN   12-05-2017   \n",
       "6                NaN   01-02-2016   \n",
       "7                NaN   07-03-2017   \n",
       "\n",
       "                                       Factsheet URL  \\\n",
       "1  https://echa.europa.eu/registration-dossier/-/...   \n",
       "2  https://echa.europa.eu/registration-dossier/-/...   \n",
       "4  https://echa.europa.eu/registration-dossier/-/...   \n",
       "6  https://echa.europa.eu/registration-dossier/-/...   \n",
       "7  https://echa.europa.eu/registration-dossier/-/...   \n",
       "\n",
       "                          Substance Information Page  \n",
       "1  https://echa.europa.eu/substance-information/-...  \n",
       "2  https://echa.europa.eu/substance-information/-...  \n",
       "4  https://echa.europa.eu/substance-information/-...  \n",
       "6  https://echa.europa.eu/substance-information/-...  \n",
       "7  https://echa.europa.eu/substance-information/-...  "
      ]
     },
     "execution_count": 11,
     "metadata": {},
     "output_type": "execute_result"
    }
   ],
   "source": [
    "cas = cas[cas['Cas Number'] != \"-\"]\n",
    "cas.head()"
   ]
  },
  {
   "cell_type": "code",
   "execution_count": 13,
   "metadata": {},
   "outputs": [
    {
     "name": "stdout",
     "output_type": "stream",
     "text": [
      "<class 'pandas.core.frame.DataFrame'>\n",
      "Index: 19943 entries, 1 to 26864\n",
      "Data columns (total 13 columns):\n",
      " #   Column                      Non-Null Count  Dtype  \n",
      "---  ------                      --------------  -----  \n",
      " 0   Name                        19943 non-null  object \n",
      " 1   EC / List Number            19943 non-null  object \n",
      " 2   Cas Number                  19943 non-null  object \n",
      " 3   ID                          19943 non-null  object \n",
      " 4   Registration Status         19943 non-null  object \n",
      " 5   Registration Type           19942 non-null  object \n",
      " 6   Submission Type             19943 non-null  object \n",
      " 7   Total tonnage Band          19943 non-null  object \n",
      " 8   Tonnage Band Min            9171 non-null   float64\n",
      " 9   Tonnage Band Max            8781 non-null   float64\n",
      " 10  Last Updated                19943 non-null  object \n",
      " 11  Factsheet URL               19943 non-null  object \n",
      " 12  Substance Information Page  19943 non-null  object \n",
      "dtypes: float64(2), object(11)\n",
      "memory usage: 2.1+ MB\n"
     ]
    }
   ],
   "source": [
    "cas.info()"
   ]
  },
  {
   "cell_type": "markdown",
   "metadata": {},
   "source": [
    "## 03. Data cleaning"
   ]
  },
  {
   "cell_type": "code",
   "execution_count": 15,
   "metadata": {},
   "outputs": [
    {
     "name": "stdout",
     "output_type": "stream",
     "text": [
      "<class 'pandas.core.frame.DataFrame'>\n",
      "Index: 17483 entries, 1 to 26863\n",
      "Data columns (total 2 columns):\n",
      " #   Column      Non-Null Count  Dtype \n",
      "---  ------      --------------  ----- \n",
      " 0   Name        17483 non-null  object\n",
      " 1   Cas Number  17483 non-null  object\n",
      "dtypes: object(2)\n",
      "memory usage: 409.8+ KB\n"
     ]
    }
   ],
   "source": [
    "cas_df = cas[['Name','Cas Number']]\n",
    "cas_df = cas_df.drop_duplicates()\n",
    "cas_df.info()"
   ]
  },
  {
   "cell_type": "markdown",
   "metadata": {},
   "source": [
    "## 04. Scrapping"
   ]
  },
  {
   "cell_type": "code",
   "execution_count": 29,
   "metadata": {},
   "outputs": [
    {
     "name": "stdout",
     "output_type": "stream",
     "text": [
      "<!DOCTYPE html>\n",
      "\n",
      "<html lang=\"en\">\n",
      "<head>\n",
      "<meta charset=\"utf-8\"/>\n",
      "<meta content=\"index,follow,noarchive\" name=\"robots\"/>\n",
      "<title>Formaldehyde | H2CO | CID 712 - PubChem</title>\n",
      "<script type=\"text/javascript\">\n",
      "      window.ncbi_startTime = new Date ()\n",
      "      \n",
      "    </script>\n",
      "<script type=\"application/ld+json\">\n",
      "      {\n",
      "          \"@context\": \"https://schema.org\",\n",
      "          \"@type\": \"Organization\",\n",
      "          \"name\": \"PubChem\",\n",
      "          \"url\": \"https://pubchem.ncbi.nlm.nih.gov\",\n",
      "          \"logo\": \"https://pubchem.ncbi.nlm.nih.gov/pcfe/logo/PubChem_logo.png\",\n",
      "          \"foundingDate\": \"2004\"\n",
      "      }\n",
      "      \n",
      "    </script>\n",
      "<link href=\"/pcfe/favicon/apple-touch-icon.png\" rel=\"apple-touch-icon\" sizes=\"180x180\"/>\n",
      "<link href=\"/pcfe/favicon/favicon-32x32.png\" rel=\"icon\" sizes=\"32x32\" type=\"image/png\"/>\n",
      "<link href=\"/pcfe/favicon/favicon-16x16.png\" rel=\"icon\" sizes=\"16x16\" type=\"image/png\"/>\n",
      "<link href=\"/pcfe/favicon/favicon.ico\" rel=\"shortcut icon\"/>\n",
      "<link href=\"https://www.ncbi.nlm.nih.gov\" rel=\"preconnect\"/>\n",
      "<link crossorigin=\"\" href=\"https://www.ncbi.nlm.nih.gov\" rel=\"preconnect\"/>\n",
      "<link href=\"https://pubchem.ncbi.nlm.nih.gov/pcfe/libs/react/react.production.min.js\" rel=\"modulepreload\"/>\n",
      "<link href=\"https://pubchem.ncbi.nlm.nih.gov/pcfe/libs/react/react-dom.production.min.js\" rel=\"modulepreload\"/>\n",
      "<meta content=\"width=device-width, initial-scale=1, minimum-scale=1\" name=\"viewport\"/>\n",
      "<meta content=\"dark light\" name=\"color-scheme\"/>\n",
      "<meta content=\"PubChem\" name=\"application-name\"/>\n",
      "<meta content=\"white\" media=\"(prefers-color-scheme: light)\" name=\"theme-color\"/>\n",
      "<meta content=\"black\" media=\"(prefers-color-scheme: dark)\" name=\"theme-color\"/>\n",
      "<meta content=\"Formaldehyde\" property=\"og:title\"/>\n",
      "<meta content=\"https://pubchem.ncbi.nlm.nih.gov/compound/712\" property=\"og:url\"/>\n",
      "<meta content=\"https://pubchem.ncbi.nlm.nih.gov/image/imgsrv.fcgi?cid=712&amp;t=l\" property=\"og:image\"/>\n",
      "<meta content=\"https://pubchem.ncbi.nlm.nih.gov/image/imgsrv.fcgi?cid=712&amp;t=l\" property=\"og:image:secure_url\"/>\n",
      "<meta content=\"website\" property=\"og:type\"/>\n",
      "<meta content=\"image/png\" property=\"og:image:type\"/>\n",
      "<meta content=\"300\" property=\"og:image:width\"/>\n",
      "<meta content=\"300\" property=\"og:image:height\"/>\n",
      "<meta content=\"@pubchem\" property=\"twitter:site\"/>\n",
      "<meta content=\"PubChem\" name=\"author\"/>\n",
      "<meta content=\"pubchem\" name=\"ncbi_db\"/>\n",
      "<meta content=\"true\" name=\"ncbi_pinger_ga_track\"/>\n",
      "<meta content=\"true\" name=\"ncbi_pinger_track_stat\"/>\n",
      "<meta content=\"false\" name=\"ncbi_pinger_section_duration\"/>\n",
      "<meta content=\"pc-rest-compounds\" name=\"ncbi_app\"/>\n",
      "<meta content=\"summary\" name=\"ncbi_pdid\"/>\n",
      "<meta content=\"90C5AAFF632DF6310000000000000001.m_1\" name=\"ncbi_phid\"/>\n",
      "<meta content=\"712\" name=\"ncbi_pubchem_cid\"/>\n",
      "<meta content=\"compound-summary\" name=\"pubchem_tracking_category\"/>\n",
      "<meta content=\"@PUG_VIEW@\" name=\"pubchem_data_service\"/>\n",
      "<meta content=\"Summary\" name=\"pubchem_page_type\"/>\n",
      "<meta content=\"CID\" name=\"pubchem_uid_type\"/>\n",
      "<meta content=\"PubChem\" name=\"pubchem_uid_type_prefix\"/>\n",
      "<meta content=\"compound\" name=\"pubchem_uid_name\"/>\n",
      "<meta content=\"712\" name=\"pubchem_uid_value\"/>\n",
      "<meta content=\"true\" name=\"pubchem_source_chooser\"/>\n",
      "<meta content=\"Formaldehyde | H2CO or CH2O | CID 712 - structure, chemical names, physical and chemical properties, classification, patents, literature, biological activities, safety/hazards/toxicity information, supplier lists, and more.\" name=\"description\"/><link href=\"https://pubchem.ncbi.nlm.nih.gov/compound/Formaldehyde\" rel=\"canonical\">\n",
      "<link href=\"https://rdf.ncbi.nlm.nih.gov/pubchem/compound/CID712\" rel=\"alternate\" title=\"CID:712\" type=\"application/rdf+xml\"/>\n",
      "<script type=\"module\">const storageAvailable=function(){try{return window.localStorage.test=0,window.localStorage.removeItem(\"test\"),!0}catch(e){return!1}}();function setMode(){\"dark\"!==localStorage.mode&&(\"mode\"in localStorage&&\"system\"!==localStorage.mode||!window.matchMedia(\"(prefers-color-scheme: dark)\").matches)?document.documentElement.classList.remove(\"dark\"):document.documentElement.classList.add(\"dark\")}!String(location.hash).match(/mode=light/i)&&storageAvailable&&(window.addEventListener(\"storage\",(()=>{setMode()})),setMode());</script>\n",
      "<link href=\"/pcfe/libs/styles/pubchem.min.css\" rel=\"stylesheet\" type=\"text/css\"/>\n",
      "</link></head>\n",
      "<body>\n",
      "<noscript>\n",
      "<div class=\"main-width pt-8 pb-8\">\n",
      "<div><img alt=\"PubChem logo\" height=\"88\" src=\"https://pubchem.ncbi.nlm.nih.gov/pcfe/logo/PubChem_logo.svg\" width=\"300\"/></div>\n",
      "<div class=\"bg-spill pt-4\">\n",
      "<h1 class=\"text-red-500 font-bold text-2xl mb-2\">JavaScript is required...</h1>\n",
      "<p>Please enable Javascript in order to use PubChem website.</p>\n",
      "</div>\n",
      "</div>\n",
      "</noscript>\n",
      "<div class=\"theme-compound\" id=\"root\"></div>\n",
      "<div class=\"theme-compound\" id=\"root-modal\"></div>\n",
      "<script async=\"\" src=\"https://www.ncbi.nlm.nih.gov/core/pinger/pinger.js\" type=\"text/javascript\"></script>\n",
      "<script nomodule=\"\">document.querySelector ('#root').innerHTML = '<div class=\"main-width pt-8 pb-8\"><div><img src=\"https://pubchem.ncbi.nlm.nih.gov/pcfe/logo/PubChem_logo.png\" alt=\"PubChem logo\" width=\"200\" height=\"60\" /></div><div class=\"bg-spill pt-4\"><h1 class=\"text-red-500 font-bold text-2xl mb-2\">Apologies, we no longer support your browser...</h1><p>Please use a modern browser, such as <a href=\"https://www.google.com/chrome\" class=\"underline\" target=\"_blank\" rel=\"noreferrer noopener\">Chrome</a>, <a href=\"https://www.mozilla.org/firefox\" class=\"underline\" target=\"_blank\" rel=\"noreferrer noopener\">Firefox</a>, or <a href=\"https://www.microsoft.com/edge\" class=\"underline\" target=\"_blank\" rel=\"noreferrer noopener\">Edge</a> to access PubChem website.</p></div><div>';</script>\n",
      "<script src=\"https://pubchem.ncbi.nlm.nih.gov/pcfe/libs/react/react.production.min.js\" type=\"module\"></script>\n",
      "<script src=\"https://pubchem.ncbi.nlm.nih.gov/pcfe/libs/react/react-dom.production.min.js\" type=\"module\"></script>\n",
      "<script src=\"/pcfe/summary/summary.min.js\" type=\"module\"></script>\n",
      "</body>\n",
      "</html>\n"
     ]
    }
   ],
   "source": [
    "import requests\n",
    "from bs4 import BeautifulSoup\n",
    "\n",
    "url = \"https://pubchem.ncbi.nlm.nih.gov/compound/Formaldehyde\"\n",
    "response = requests.get(url)\n",
    "soup = BeautifulSoup(response.content, \"html.parser\")\n",
    "\n",
    "# x =  soup.find(\"div\", class_=\"sm:table w-full\")\n",
    "\n",
    "print(soup)"
   ]
  },
  {
   "cell_type": "code",
   "execution_count": 23,
   "metadata": {},
   "outputs": [
    {
     "name": "stdout",
     "output_type": "stream",
     "text": [
      "[]\n"
     ]
    }
   ],
   "source": [
    "import requests\n",
    "from bs4 import BeautifulSoup\n",
    "\n",
    "response = requests.get(\"https://pubchem.ncbi.nlm.nih.gov/compound/Formaldehyde\", headers={\"Accept-Language\":\"en-US\"})\n",
    "soup = BeautifulSoup(response.content, \"html.parser\")\n",
    "\n",
    "movies = []\n",
    "for movie in soup.find_all(\"div\", class_=\"space-y-1\"):\n",
    "    title = movie.find(\"ul\").find(\"li\").string\n",
    "    # duration = int(movie.find(\"span\", class_=\"runtime\").string.strip(' min'))\n",
    "    duration = \"test\"\n",
    "    movies.append({'title': title, 'duration': duration})\n",
    "\n",
    "print(movies[0:2])"
   ]
  },
  {
   "cell_type": "code",
   "execution_count": 24,
   "metadata": {},
   "outputs": [
    {
     "data": {
      "text/plain": [
       "[]"
      ]
     },
     "execution_count": 24,
     "metadata": {},
     "output_type": "execute_result"
    }
   ],
   "source": [
    "response = requests.get(\"https://www.google.com/search?sca_esv=e6608f0c11c7d82b&sca_upv=1&sxsrf=ACQVn08uzZu-LIqRnkRM-hZ-G_duJR0eHA:1714609290365&q=tatuagem+old+school&uds=AMwkrPtH4R_IcK4JzT8HHqNW5j-mekCTXylnC0Guylnd4CA3nXoqazORvzxDEosDvviehTpCGCF-ONAtX_VDTZHeW1fBvD-tzB-mx0mG0RZIFOyZdl5T1EAVQ4d93UDA_nNiqLvj4JMhaa5aJYKVgOlTBLo13k9QEuHhzaB7RVsuYrHASW-nLkN3JMJPsOEUqu55HrnQN-V7zl6XWj9t5hXulaqI1uzbMMIEqc5P8qD0TRNrL8jEFfAHVklD3_QUsnCkgAC3668c4dTaDGmvm_yuoUKxBLyEO3nq4oEyu-3nm9xjDqkBWdqd7VquSv8ImEXl17zMWLsQ&udm=2&prmd=isvnmbtz&sa=X&ved=2ahUKEwjO1rit2e2FAxVAkJUCHXl5BtEQtKgLegQIFBAB&biw=1920&bih=911&dpr=1\", headers={\"Accept-Language\":\"en-US\"})\n",
    "soup = BeautifulSoup(response.content, \"html.parser\")\n",
    "\n",
    "y = soup.find_all(\"div\", class_=\"toI8Rb OSrXXb\")\n",
    "y"
   ]
  }
 ],
 "metadata": {
  "kernelspec": {
   "display_name": "Python 3",
   "language": "python",
   "name": "python3"
  },
  "language_info": {
   "codemirror_mode": {
    "name": "ipython",
    "version": 3
   },
   "file_extension": ".py",
   "mimetype": "text/x-python",
   "name": "python",
   "nbconvert_exporter": "python",
   "pygments_lexer": "ipython3",
   "version": "3.10.6"
  }
 },
 "nbformat": 4,
 "nbformat_minor": 2
}
