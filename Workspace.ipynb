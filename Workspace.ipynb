{
 "cells": [
  {
   "cell_type": "markdown",
   "metadata": {},
   "source": [
    "# Chemicals Hazards WebScrapping"
   ]
  },
  {
   "cell_type": "markdown",
   "metadata": {},
   "source": [
    "## 01. Importing Libraries"
   ]
  },
  {
   "cell_type": "code",
   "execution_count": 1,
   "metadata": {},
   "outputs": [
    {
     "name": "stderr",
     "output_type": "stream",
     "text": [
      "/tmp/ipykernel_8435/4080736814.py:1: DeprecationWarning: \n",
      "Pyarrow will become a required dependency of pandas in the next major release of pandas (pandas 3.0),\n",
      "(to allow more performant data types, such as the Arrow string type, and better interoperability with other libraries)\n",
      "but was too old on your system - pyarrow 10.0.1 is the current minimum supported version as of this release.\n",
      "If this would cause problems for you,\n",
      "please provide us feedback at https://github.com/pandas-dev/pandas/issues/54466\n",
      "        \n",
      "  import pandas as pd\n"
     ]
    }
   ],
   "source": [
    "import pandas as pd"
   ]
  },
  {
   "cell_type": "markdown",
   "metadata": {},
   "source": [
    "## 02. Data Load"
   ]
  },
  {
   "cell_type": "code",
   "execution_count": 9,
   "metadata": {},
   "outputs": [],
   "source": [
    "cas = pd.read_excel(\"reg-substances-export.xlsx\")"
   ]
  },
  {
   "cell_type": "code",
   "execution_count": 11,
   "metadata": {},
   "outputs": [
    {
     "data": {
      "text/html": [
       "<div>\n",
       "<style scoped>\n",
       "    .dataframe tbody tr th:only-of-type {\n",
       "        vertical-align: middle;\n",
       "    }\n",
       "\n",
       "    .dataframe tbody tr th {\n",
       "        vertical-align: top;\n",
       "    }\n",
       "\n",
       "    .dataframe thead th {\n",
       "        text-align: right;\n",
       "    }\n",
       "</style>\n",
       "<table border=\"1\" class=\"dataframe\">\n",
       "  <thead>\n",
       "    <tr style=\"text-align: right;\">\n",
       "      <th></th>\n",
       "      <th>Name</th>\n",
       "      <th>EC / List Number</th>\n",
       "      <th>Cas Number</th>\n",
       "      <th>ID</th>\n",
       "      <th>Registration Status</th>\n",
       "      <th>Registration Type</th>\n",
       "      <th>Submission Type</th>\n",
       "      <th>Total tonnage Band</th>\n",
       "      <th>Tonnage Band Min</th>\n",
       "      <th>Tonnage Band Max</th>\n",
       "      <th>Last Updated</th>\n",
       "      <th>Factsheet URL</th>\n",
       "      <th>Substance Information Page</th>\n",
       "    </tr>\n",
       "  </thead>\n",
       "  <tbody>\n",
       "    <tr>\n",
       "      <th>1</th>\n",
       "      <td>''amyl nitrite'', mixed isomers</td>\n",
       "      <td>203-770-8</td>\n",
       "      <td>110-46-3</td>\n",
       "      <td>100.003.429</td>\n",
       "      <td>Active</td>\n",
       "      <td>FULL</td>\n",
       "      <td>JOINT_SUBMISSION</td>\n",
       "      <td>≥ 10 to &lt; 100 tonnes</td>\n",
       "      <td>10.0</td>\n",
       "      <td>100.0</td>\n",
       "      <td>26-07-2022</td>\n",
       "      <td>https://echa.europa.eu/registration-dossier/-/...</td>\n",
       "      <td>https://echa.europa.eu/substance-information/-...</td>\n",
       "    </tr>\n",
       "    <tr>\n",
       "      <th>2</th>\n",
       "      <td>''amyl nitrite'', mixed isomers</td>\n",
       "      <td>203-770-8</td>\n",
       "      <td>110-46-3</td>\n",
       "      <td>100.003.429</td>\n",
       "      <td>Active</td>\n",
       "      <td>INTERMEDIATE</td>\n",
       "      <td>JOINT_SUBMISSION</td>\n",
       "      <td>Intermediate use only</td>\n",
       "      <td>NaN</td>\n",
       "      <td>NaN</td>\n",
       "      <td>10-12-2019</td>\n",
       "      <td>https://echa.europa.eu/registration-dossier/-/...</td>\n",
       "      <td>https://echa.europa.eu/substance-information/-...</td>\n",
       "    </tr>\n",
       "    <tr>\n",
       "      <th>4</th>\n",
       "      <td>(((2,2-dimethylbut-3-yn-1-yl)oxy)methyl)benzene</td>\n",
       "      <td>811-585-4</td>\n",
       "      <td>1092536-54-3</td>\n",
       "      <td>100.242.210</td>\n",
       "      <td>Active</td>\n",
       "      <td>INTERMEDIATE</td>\n",
       "      <td>JOINT_SUBMISSION</td>\n",
       "      <td>Intermediate use only</td>\n",
       "      <td>NaN</td>\n",
       "      <td>NaN</td>\n",
       "      <td>12-05-2017</td>\n",
       "      <td>https://echa.europa.eu/registration-dossier/-/...</td>\n",
       "      <td>https://echa.europa.eu/substance-information/-...</td>\n",
       "    </tr>\n",
       "    <tr>\n",
       "      <th>6</th>\n",
       "      <td>((2R,3R,4R,5R)-3-(benzoyloxy)-5-(2,4-dioxo-3,4...</td>\n",
       "      <td>807-766-2</td>\n",
       "      <td>863329-65-1</td>\n",
       "      <td>100.235.582</td>\n",
       "      <td>Cease Manufacture</td>\n",
       "      <td>INTERMEDIATE</td>\n",
       "      <td>INDIVIDUAL_SUBMISSION</td>\n",
       "      <td>Cease manufacture</td>\n",
       "      <td>NaN</td>\n",
       "      <td>NaN</td>\n",
       "      <td>01-02-2016</td>\n",
       "      <td>https://echa.europa.eu/registration-dossier/-/...</td>\n",
       "      <td>https://echa.europa.eu/substance-information/-...</td>\n",
       "    </tr>\n",
       "    <tr>\n",
       "      <th>7</th>\n",
       "      <td>((2R,3R,4R,5R)-3-(benzoyloxy)-5-(2,4-dioxo-3,4...</td>\n",
       "      <td>807-766-2</td>\n",
       "      <td>863329-65-1</td>\n",
       "      <td>100.235.582</td>\n",
       "      <td>Active</td>\n",
       "      <td>INTERMEDIATE</td>\n",
       "      <td>JOINT_SUBMISSION</td>\n",
       "      <td>Intermediate use only</td>\n",
       "      <td>NaN</td>\n",
       "      <td>NaN</td>\n",
       "      <td>07-03-2017</td>\n",
       "      <td>https://echa.europa.eu/registration-dossier/-/...</td>\n",
       "      <td>https://echa.europa.eu/substance-information/-...</td>\n",
       "    </tr>\n",
       "  </tbody>\n",
       "</table>\n",
       "</div>"
      ],
      "text/plain": [
       "                                                Name EC / List Number  \\\n",
       "1                    ''amyl nitrite'', mixed isomers        203-770-8   \n",
       "2                    ''amyl nitrite'', mixed isomers        203-770-8   \n",
       "4    (((2,2-dimethylbut-3-yn-1-yl)oxy)methyl)benzene        811-585-4   \n",
       "6  ((2R,3R,4R,5R)-3-(benzoyloxy)-5-(2,4-dioxo-3,4...        807-766-2   \n",
       "7  ((2R,3R,4R,5R)-3-(benzoyloxy)-5-(2,4-dioxo-3,4...        807-766-2   \n",
       "\n",
       "     Cas Number           ID Registration Status Registration Type  \\\n",
       "1      110-46-3  100.003.429              Active              FULL   \n",
       "2      110-46-3  100.003.429              Active      INTERMEDIATE   \n",
       "4  1092536-54-3  100.242.210              Active      INTERMEDIATE   \n",
       "6   863329-65-1  100.235.582   Cease Manufacture      INTERMEDIATE   \n",
       "7   863329-65-1  100.235.582              Active      INTERMEDIATE   \n",
       "\n",
       "         Submission Type     Total tonnage Band  Tonnage Band Min  \\\n",
       "1       JOINT_SUBMISSION   ≥ 10 to < 100 tonnes              10.0   \n",
       "2       JOINT_SUBMISSION  Intermediate use only               NaN   \n",
       "4       JOINT_SUBMISSION  Intermediate use only               NaN   \n",
       "6  INDIVIDUAL_SUBMISSION      Cease manufacture               NaN   \n",
       "7       JOINT_SUBMISSION  Intermediate use only               NaN   \n",
       "\n",
       "   Tonnage Band Max  Last Updated  \\\n",
       "1              100.0   26-07-2022   \n",
       "2                NaN   10-12-2019   \n",
       "4                NaN   12-05-2017   \n",
       "6                NaN   01-02-2016   \n",
       "7                NaN   07-03-2017   \n",
       "\n",
       "                                       Factsheet URL  \\\n",
       "1  https://echa.europa.eu/registration-dossier/-/...   \n",
       "2  https://echa.europa.eu/registration-dossier/-/...   \n",
       "4  https://echa.europa.eu/registration-dossier/-/...   \n",
       "6  https://echa.europa.eu/registration-dossier/-/...   \n",
       "7  https://echa.europa.eu/registration-dossier/-/...   \n",
       "\n",
       "                          Substance Information Page  \n",
       "1  https://echa.europa.eu/substance-information/-...  \n",
       "2  https://echa.europa.eu/substance-information/-...  \n",
       "4  https://echa.europa.eu/substance-information/-...  \n",
       "6  https://echa.europa.eu/substance-information/-...  \n",
       "7  https://echa.europa.eu/substance-information/-...  "
      ]
     },
     "execution_count": 11,
     "metadata": {},
     "output_type": "execute_result"
    }
   ],
   "source": [
    "cas = cas[cas['Cas Number'] != \"-\"]\n",
    "cas.head()"
   ]
  },
  {
   "cell_type": "code",
   "execution_count": 13,
   "metadata": {},
   "outputs": [
    {
     "name": "stdout",
     "output_type": "stream",
     "text": [
      "<class 'pandas.core.frame.DataFrame'>\n",
      "Index: 19943 entries, 1 to 26864\n",
      "Data columns (total 13 columns):\n",
      " #   Column                      Non-Null Count  Dtype  \n",
      "---  ------                      --------------  -----  \n",
      " 0   Name                        19943 non-null  object \n",
      " 1   EC / List Number            19943 non-null  object \n",
      " 2   Cas Number                  19943 non-null  object \n",
      " 3   ID                          19943 non-null  object \n",
      " 4   Registration Status         19943 non-null  object \n",
      " 5   Registration Type           19942 non-null  object \n",
      " 6   Submission Type             19943 non-null  object \n",
      " 7   Total tonnage Band          19943 non-null  object \n",
      " 8   Tonnage Band Min            9171 non-null   float64\n",
      " 9   Tonnage Band Max            8781 non-null   float64\n",
      " 10  Last Updated                19943 non-null  object \n",
      " 11  Factsheet URL               19943 non-null  object \n",
      " 12  Substance Information Page  19943 non-null  object \n",
      "dtypes: float64(2), object(11)\n",
      "memory usage: 2.1+ MB\n"
     ]
    }
   ],
   "source": [
    "cas.info()"
   ]
  },
  {
   "cell_type": "markdown",
   "metadata": {},
   "source": [
    "## 03. Data cleaning"
   ]
  },
  {
   "cell_type": "code",
   "execution_count": 15,
   "metadata": {},
   "outputs": [
    {
     "name": "stdout",
     "output_type": "stream",
     "text": [
      "<class 'pandas.core.frame.DataFrame'>\n",
      "Index: 17483 entries, 1 to 26863\n",
      "Data columns (total 2 columns):\n",
      " #   Column      Non-Null Count  Dtype \n",
      "---  ------      --------------  ----- \n",
      " 0   Name        17483 non-null  object\n",
      " 1   Cas Number  17483 non-null  object\n",
      "dtypes: object(2)\n",
      "memory usage: 409.8+ KB\n"
     ]
    }
   ],
   "source": [
    "cas_df = cas[['Name','Cas Number']]\n",
    "cas_df = cas_df.drop_duplicates()\n",
    "cas_df.info()"
   ]
  },
  {
   "cell_type": "markdown",
   "metadata": {},
   "source": [
    "## 04. Scrapping"
   ]
  },
  {
   "cell_type": "code",
   "execution_count": null,
   "metadata": {},
   "outputs": [],
   "source": [
    "import requests\n",
    "from bs4 import BeautifulSoup\n",
    "\n",
    "response = requests.get(url)\n",
    "soup = BeautifulSoup(response.content, \"html.parser\")"
   ]
  }
 ],
 "metadata": {
  "kernelspec": {
   "display_name": "Python 3",
   "language": "python",
   "name": "python3"
  },
  "language_info": {
   "codemirror_mode": {
    "name": "ipython",
    "version": 3
   },
   "file_extension": ".py",
   "mimetype": "text/x-python",
   "name": "python",
   "nbconvert_exporter": "python",
   "pygments_lexer": "ipython3",
   "version": "3.10.6"
  }
 },
 "nbformat": 4,
 "nbformat_minor": 2
}
